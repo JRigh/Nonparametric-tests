{
 "cells": [
  {
   "cell_type": "markdown",
   "id": "bf7cb66d",
   "metadata": {},
   "source": [
    "## The Sign test in Python: a simple example"
   ]
  },
  {
   "cell_type": "code",
   "execution_count": 14,
   "id": "c63b4fdf",
   "metadata": {},
   "outputs": [
    {
     "data": {
      "text/plain": [
       "(5.0, 0.001953125)"
      ]
     },
     "execution_count": 14,
     "metadata": {},
     "output_type": "execute_result"
    }
   ],
   "source": [
    "import numpy as np\n",
    "from scipy.stats import binom\n",
    "import statsmodels \n",
    "from statsmodels.stats.descriptivestats import sign_test\n",
    "\n",
    "# data\n",
    "data = [275,292,281,284,285,283,290,294,300,284]\n",
    "\n",
    "# We test: H0: median(data) = 280\n",
    "\n",
    "# sign test statistic\n",
    "dataminusmed0 = data - np.repeat(280, 10)\n",
    "dataminusmed0\n",
    "\n",
    "S = (np.sum(np.sign(dataminusmed0)) + len(data) ) / 2\n",
    "S # 9.0\n",
    "\n",
    "# p-value\n",
    "2*binom.pmf(1, n = 10, p = 0.5)\n",
    "# 0.019531250000000003\n",
    "\n",
    "# p-value with method sign_test() from statsmodels\n",
    "sign_test(data, mu0=180)\n",
    "# (5.0, 0.001953125)"
   ]
  }
 ],
 "metadata": {
  "kernelspec": {
   "display_name": "Python 3 (ipykernel)",
   "language": "python",
   "name": "python3"
  },
  "language_info": {
   "codemirror_mode": {
    "name": "ipython",
    "version": 3
   },
   "file_extension": ".py",
   "mimetype": "text/x-python",
   "name": "python",
   "nbconvert_exporter": "python",
   "pygments_lexer": "ipython3",
   "version": "3.10.9"
  }
 },
 "nbformat": 4,
 "nbformat_minor": 5
}
